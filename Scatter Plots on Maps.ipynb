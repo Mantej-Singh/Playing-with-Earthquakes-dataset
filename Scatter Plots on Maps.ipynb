{
 "cells": [
  {
   "cell_type": "code",
   "execution_count": 165,
   "metadata": {
    "collapsed": true
   },
   "outputs": [],
   "source": [
    "import pandas as pd"
   ]
  },
  {
   "cell_type": "code",
   "execution_count": 166,
   "metadata": {
    "collapsed": false
   },
   "outputs": [],
   "source": [
    "df=pd.read_csv('All Earthquakes.csv')"
   ]
  },
  {
   "cell_type": "code",
   "execution_count": 167,
   "metadata": {
    "collapsed": false
   },
   "outputs": [
    {
     "data": {
      "text/plain": [
       "time                object\n",
       "latitude           float64\n",
       "longitude          float64\n",
       "depth              float64\n",
       "mag                float64\n",
       "magType             object\n",
       "nst                float64\n",
       "gap                float64\n",
       "dmin               float64\n",
       "rms                float64\n",
       "net                 object\n",
       "id                  object\n",
       "updated             object\n",
       "place               object\n",
       "type                object\n",
       "horizontalError    float64\n",
       "depthError         float64\n",
       "magError           float64\n",
       "magNst             float64\n",
       "status              object\n",
       "locationSource      object\n",
       "magSource           object\n",
       "dtype: object"
      ]
     },
     "execution_count": 167,
     "metadata": {},
     "output_type": "execute_result"
    }
   ],
   "source": [
    "df.dtypes"
   ]
  },
  {
   "cell_type": "code",
   "execution_count": 168,
   "metadata": {
    "collapsed": false
   },
   "outputs": [
    {
     "data": {
      "text/plain": [
       "60"
      ]
     },
     "execution_count": 168,
     "metadata": {},
     "output_type": "execute_result"
    }
   ],
   "source": [
    "pd.options.display.max_rows"
   ]
  },
  {
   "cell_type": "code",
   "execution_count": 169,
   "metadata": {
    "collapsed": true
   },
   "outputs": [],
   "source": [
    "pd.options.display.max_columns=None"
   ]
  },
  {
   "cell_type": "code",
   "execution_count": 170,
   "metadata": {
    "collapsed": false
   },
   "outputs": [
    {
     "data": {
      "text/html": [
       "<div>\n",
       "<table border=\"1\" class=\"dataframe\">\n",
       "  <thead>\n",
       "    <tr style=\"text-align: right;\">\n",
       "      <th></th>\n",
       "      <th>time</th>\n",
       "      <th>latitude</th>\n",
       "      <th>longitude</th>\n",
       "      <th>depth</th>\n",
       "      <th>mag</th>\n",
       "      <th>magType</th>\n",
       "      <th>nst</th>\n",
       "      <th>gap</th>\n",
       "      <th>dmin</th>\n",
       "      <th>rms</th>\n",
       "      <th>net</th>\n",
       "      <th>id</th>\n",
       "      <th>updated</th>\n",
       "      <th>place</th>\n",
       "      <th>type</th>\n",
       "      <th>horizontalError</th>\n",
       "      <th>depthError</th>\n",
       "      <th>magError</th>\n",
       "      <th>magNst</th>\n",
       "      <th>status</th>\n",
       "      <th>locationSource</th>\n",
       "      <th>magSource</th>\n",
       "    </tr>\n",
       "  </thead>\n",
       "  <tbody>\n",
       "    <tr>\n",
       "      <th>1</th>\n",
       "      <td>2017-01-30T23:32:12.810Z</td>\n",
       "      <td>33.620500</td>\n",
       "      <td>-116.633333</td>\n",
       "      <td>12.52</td>\n",
       "      <td>0.78</td>\n",
       "      <td>ml</td>\n",
       "      <td>19.0</td>\n",
       "      <td>80.0</td>\n",
       "      <td>0.03829</td>\n",
       "      <td>0.30</td>\n",
       "      <td>ci</td>\n",
       "      <td>ci37575887</td>\n",
       "      <td>2017-01-30T23:35:54.456Z</td>\n",
       "      <td>8km NNE of Anza, CA</td>\n",
       "      <td>earthquake</td>\n",
       "      <td>0.98</td>\n",
       "      <td>1.67</td>\n",
       "      <td>0.366</td>\n",
       "      <td>14.0</td>\n",
       "      <td>automatic</td>\n",
       "      <td>ci</td>\n",
       "      <td>ci</td>\n",
       "    </tr>\n",
       "    <tr>\n",
       "      <th>2</th>\n",
       "      <td>2017-01-30T23:13:32.520Z</td>\n",
       "      <td>38.791832</td>\n",
       "      <td>-122.825500</td>\n",
       "      <td>-0.83</td>\n",
       "      <td>1.19</td>\n",
       "      <td>md</td>\n",
       "      <td>6.0</td>\n",
       "      <td>179.0</td>\n",
       "      <td>0.04734</td>\n",
       "      <td>0.10</td>\n",
       "      <td>nc</td>\n",
       "      <td>nc72758025</td>\n",
       "      <td>2017-01-30T23:15:14.174Z</td>\n",
       "      <td>6km WNW of The Geysers, California</td>\n",
       "      <td>earthquake</td>\n",
       "      <td>1.47</td>\n",
       "      <td>3.78</td>\n",
       "      <td>0.190</td>\n",
       "      <td>2.0</td>\n",
       "      <td>automatic</td>\n",
       "      <td>nc</td>\n",
       "      <td>nc</td>\n",
       "    </tr>\n",
       "    <tr>\n",
       "      <th>3</th>\n",
       "      <td>2017-01-30T23:07:07.350Z</td>\n",
       "      <td>33.792333</td>\n",
       "      <td>-116.158333</td>\n",
       "      <td>5.40</td>\n",
       "      <td>1.79</td>\n",
       "      <td>ml</td>\n",
       "      <td>51.0</td>\n",
       "      <td>63.0</td>\n",
       "      <td>0.05281</td>\n",
       "      <td>0.19</td>\n",
       "      <td>ci</td>\n",
       "      <td>ci37575839</td>\n",
       "      <td>2017-01-30T23:17:49.970Z</td>\n",
       "      <td>10km NNE of Indio, CA</td>\n",
       "      <td>earthquake</td>\n",
       "      <td>0.24</td>\n",
       "      <td>0.54</td>\n",
       "      <td>0.190</td>\n",
       "      <td>27.0</td>\n",
       "      <td>automatic</td>\n",
       "      <td>ci</td>\n",
       "      <td>ci</td>\n",
       "    </tr>\n",
       "  </tbody>\n",
       "</table>\n",
       "</div>"
      ],
      "text/plain": [
       "                       time   latitude   longitude  depth   mag magType   nst  \\\n",
       "1  2017-01-30T23:32:12.810Z  33.620500 -116.633333  12.52  0.78      ml  19.0   \n",
       "2  2017-01-30T23:13:32.520Z  38.791832 -122.825500  -0.83  1.19      md   6.0   \n",
       "3  2017-01-30T23:07:07.350Z  33.792333 -116.158333   5.40  1.79      ml  51.0   \n",
       "\n",
       "     gap     dmin   rms net          id                   updated  \\\n",
       "1   80.0  0.03829  0.30  ci  ci37575887  2017-01-30T23:35:54.456Z   \n",
       "2  179.0  0.04734  0.10  nc  nc72758025  2017-01-30T23:15:14.174Z   \n",
       "3   63.0  0.05281  0.19  ci  ci37575839  2017-01-30T23:17:49.970Z   \n",
       "\n",
       "                                place        type  horizontalError  \\\n",
       "1                 8km NNE of Anza, CA  earthquake             0.98   \n",
       "2  6km WNW of The Geysers, California  earthquake             1.47   \n",
       "3               10km NNE of Indio, CA  earthquake             0.24   \n",
       "\n",
       "   depthError  magError  magNst     status locationSource magSource  \n",
       "1        1.67     0.366    14.0  automatic             ci        ci  \n",
       "2        3.78     0.190     2.0  automatic             nc        nc  \n",
       "3        0.54     0.190    27.0  automatic             ci        ci  "
      ]
     },
     "execution_count": 170,
     "metadata": {},
     "output_type": "execute_result"
    }
   ],
   "source": [
    "df[1:4]"
   ]
  },
  {
   "cell_type": "code",
   "execution_count": 171,
   "metadata": {
    "collapsed": false
   },
   "outputs": [],
   "source": [
    "df['time']=pd.to_datetime(df['time'])"
   ]
  },
  {
   "cell_type": "code",
   "execution_count": 172,
   "metadata": {
    "collapsed": false
   },
   "outputs": [
    {
     "data": {
      "text/html": [
       "<div>\n",
       "<table border=\"1\" class=\"dataframe\">\n",
       "  <thead>\n",
       "    <tr style=\"text-align: right;\">\n",
       "      <th></th>\n",
       "      <th>time</th>\n",
       "      <th>latitude</th>\n",
       "      <th>longitude</th>\n",
       "      <th>depth</th>\n",
       "      <th>mag</th>\n",
       "      <th>magType</th>\n",
       "      <th>nst</th>\n",
       "      <th>gap</th>\n",
       "      <th>dmin</th>\n",
       "      <th>rms</th>\n",
       "      <th>net</th>\n",
       "      <th>id</th>\n",
       "      <th>updated</th>\n",
       "      <th>place</th>\n",
       "      <th>type</th>\n",
       "      <th>horizontalError</th>\n",
       "      <th>depthError</th>\n",
       "      <th>magError</th>\n",
       "      <th>magNst</th>\n",
       "      <th>status</th>\n",
       "      <th>locationSource</th>\n",
       "      <th>magSource</th>\n",
       "    </tr>\n",
       "  </thead>\n",
       "  <tbody>\n",
       "    <tr>\n",
       "      <th>0</th>\n",
       "      <td>2017-01-30 23:41:27.870</td>\n",
       "      <td>38.814667</td>\n",
       "      <td>-122.794167</td>\n",
       "      <td>2.77</td>\n",
       "      <td>1.00</td>\n",
       "      <td>md</td>\n",
       "      <td>15.0</td>\n",
       "      <td>68.0</td>\n",
       "      <td>0.006748</td>\n",
       "      <td>0.01</td>\n",
       "      <td>nc</td>\n",
       "      <td>nc72758065</td>\n",
       "      <td>2017-01-30T23:43:07.082Z</td>\n",
       "      <td>5km NW of The Geysers, California</td>\n",
       "      <td>earthquake</td>\n",
       "      <td>0.30</td>\n",
       "      <td>0.56</td>\n",
       "      <td>0.020</td>\n",
       "      <td>5.0</td>\n",
       "      <td>automatic</td>\n",
       "      <td>nc</td>\n",
       "      <td>nc</td>\n",
       "    </tr>\n",
       "    <tr>\n",
       "      <th>1</th>\n",
       "      <td>2017-01-30 23:32:12.810</td>\n",
       "      <td>33.620500</td>\n",
       "      <td>-116.633333</td>\n",
       "      <td>12.52</td>\n",
       "      <td>0.78</td>\n",
       "      <td>ml</td>\n",
       "      <td>19.0</td>\n",
       "      <td>80.0</td>\n",
       "      <td>0.038290</td>\n",
       "      <td>0.30</td>\n",
       "      <td>ci</td>\n",
       "      <td>ci37575887</td>\n",
       "      <td>2017-01-30T23:35:54.456Z</td>\n",
       "      <td>8km NNE of Anza, CA</td>\n",
       "      <td>earthquake</td>\n",
       "      <td>0.98</td>\n",
       "      <td>1.67</td>\n",
       "      <td>0.366</td>\n",
       "      <td>14.0</td>\n",
       "      <td>automatic</td>\n",
       "      <td>ci</td>\n",
       "      <td>ci</td>\n",
       "    </tr>\n",
       "    <tr>\n",
       "      <th>2</th>\n",
       "      <td>2017-01-30 23:13:32.520</td>\n",
       "      <td>38.791832</td>\n",
       "      <td>-122.825500</td>\n",
       "      <td>-0.83</td>\n",
       "      <td>1.19</td>\n",
       "      <td>md</td>\n",
       "      <td>6.0</td>\n",
       "      <td>179.0</td>\n",
       "      <td>0.047340</td>\n",
       "      <td>0.10</td>\n",
       "      <td>nc</td>\n",
       "      <td>nc72758025</td>\n",
       "      <td>2017-01-30T23:15:14.174Z</td>\n",
       "      <td>6km WNW of The Geysers, California</td>\n",
       "      <td>earthquake</td>\n",
       "      <td>1.47</td>\n",
       "      <td>3.78</td>\n",
       "      <td>0.190</td>\n",
       "      <td>2.0</td>\n",
       "      <td>automatic</td>\n",
       "      <td>nc</td>\n",
       "      <td>nc</td>\n",
       "    </tr>\n",
       "    <tr>\n",
       "      <th>3</th>\n",
       "      <td>2017-01-30 23:07:07.350</td>\n",
       "      <td>33.792333</td>\n",
       "      <td>-116.158333</td>\n",
       "      <td>5.40</td>\n",
       "      <td>1.79</td>\n",
       "      <td>ml</td>\n",
       "      <td>51.0</td>\n",
       "      <td>63.0</td>\n",
       "      <td>0.052810</td>\n",
       "      <td>0.19</td>\n",
       "      <td>ci</td>\n",
       "      <td>ci37575839</td>\n",
       "      <td>2017-01-30T23:17:49.970Z</td>\n",
       "      <td>10km NNE of Indio, CA</td>\n",
       "      <td>earthquake</td>\n",
       "      <td>0.24</td>\n",
       "      <td>0.54</td>\n",
       "      <td>0.190</td>\n",
       "      <td>27.0</td>\n",
       "      <td>automatic</td>\n",
       "      <td>ci</td>\n",
       "      <td>ci</td>\n",
       "    </tr>\n",
       "    <tr>\n",
       "      <th>4</th>\n",
       "      <td>2017-01-30 23:02:30.680</td>\n",
       "      <td>33.791167</td>\n",
       "      <td>-116.152667</td>\n",
       "      <td>5.97</td>\n",
       "      <td>2.62</td>\n",
       "      <td>ml</td>\n",
       "      <td>68.0</td>\n",
       "      <td>63.0</td>\n",
       "      <td>0.057610</td>\n",
       "      <td>0.17</td>\n",
       "      <td>ci</td>\n",
       "      <td>ci37575823</td>\n",
       "      <td>2017-01-30T23:29:08.980Z</td>\n",
       "      <td>10km NE of Indio, CA</td>\n",
       "      <td>earthquake</td>\n",
       "      <td>0.20</td>\n",
       "      <td>0.70</td>\n",
       "      <td>0.228</td>\n",
       "      <td>25.0</td>\n",
       "      <td>automatic</td>\n",
       "      <td>ci</td>\n",
       "      <td>ci</td>\n",
       "    </tr>\n",
       "  </tbody>\n",
       "</table>\n",
       "</div>"
      ],
      "text/plain": [
       "                     time   latitude   longitude  depth   mag magType   nst  \\\n",
       "0 2017-01-30 23:41:27.870  38.814667 -122.794167   2.77  1.00      md  15.0   \n",
       "1 2017-01-30 23:32:12.810  33.620500 -116.633333  12.52  0.78      ml  19.0   \n",
       "2 2017-01-30 23:13:32.520  38.791832 -122.825500  -0.83  1.19      md   6.0   \n",
       "3 2017-01-30 23:07:07.350  33.792333 -116.158333   5.40  1.79      ml  51.0   \n",
       "4 2017-01-30 23:02:30.680  33.791167 -116.152667   5.97  2.62      ml  68.0   \n",
       "\n",
       "     gap      dmin   rms net          id                   updated  \\\n",
       "0   68.0  0.006748  0.01  nc  nc72758065  2017-01-30T23:43:07.082Z   \n",
       "1   80.0  0.038290  0.30  ci  ci37575887  2017-01-30T23:35:54.456Z   \n",
       "2  179.0  0.047340  0.10  nc  nc72758025  2017-01-30T23:15:14.174Z   \n",
       "3   63.0  0.052810  0.19  ci  ci37575839  2017-01-30T23:17:49.970Z   \n",
       "4   63.0  0.057610  0.17  ci  ci37575823  2017-01-30T23:29:08.980Z   \n",
       "\n",
       "                                place        type  horizontalError  \\\n",
       "0   5km NW of The Geysers, California  earthquake             0.30   \n",
       "1                 8km NNE of Anza, CA  earthquake             0.98   \n",
       "2  6km WNW of The Geysers, California  earthquake             1.47   \n",
       "3               10km NNE of Indio, CA  earthquake             0.24   \n",
       "4                10km NE of Indio, CA  earthquake             0.20   \n",
       "\n",
       "   depthError  magError  magNst     status locationSource magSource  \n",
       "0        0.56     0.020     5.0  automatic             nc        nc  \n",
       "1        1.67     0.366    14.0  automatic             ci        ci  \n",
       "2        3.78     0.190     2.0  automatic             nc        nc  \n",
       "3        0.54     0.190    27.0  automatic             ci        ci  \n",
       "4        0.70     0.228    25.0  automatic             ci        ci  "
      ]
     },
     "execution_count": 172,
     "metadata": {},
     "output_type": "execute_result"
    }
   ],
   "source": [
    "df.head()"
   ]
  },
  {
   "cell_type": "code",
   "execution_count": 173,
   "metadata": {
    "collapsed": false
   },
   "outputs": [],
   "source": [
    "df['Year_month']=df['time'].apply(lambda x: x.strftime('%b-%y')) "
   ]
  },
  {
   "cell_type": "code",
   "execution_count": 174,
   "metadata": {
    "collapsed": false
   },
   "outputs": [],
   "source": [
    "data1=df.groupby('type').count()"
   ]
  },
  {
   "cell_type": "code",
   "execution_count": 175,
   "metadata": {
    "collapsed": false
   },
   "outputs": [],
   "source": [
    "data1=data1.reset_index()"
   ]
  },
  {
   "cell_type": "code",
   "execution_count": 176,
   "metadata": {
    "collapsed": false
   },
   "outputs": [
    {
     "data": {
      "text/html": [
       "<div>\n",
       "<table border=\"1\" class=\"dataframe\">\n",
       "  <thead>\n",
       "    <tr style=\"text-align: right;\">\n",
       "      <th></th>\n",
       "      <th>type</th>\n",
       "      <th>time</th>\n",
       "      <th>latitude</th>\n",
       "      <th>longitude</th>\n",
       "      <th>depth</th>\n",
       "      <th>mag</th>\n",
       "      <th>magType</th>\n",
       "      <th>nst</th>\n",
       "      <th>gap</th>\n",
       "      <th>dmin</th>\n",
       "      <th>rms</th>\n",
       "      <th>net</th>\n",
       "      <th>id</th>\n",
       "      <th>updated</th>\n",
       "      <th>place</th>\n",
       "      <th>horizontalError</th>\n",
       "      <th>depthError</th>\n",
       "      <th>magError</th>\n",
       "      <th>magNst</th>\n",
       "      <th>status</th>\n",
       "      <th>locationSource</th>\n",
       "      <th>magSource</th>\n",
       "      <th>Year_month</th>\n",
       "    </tr>\n",
       "  </thead>\n",
       "  <tbody>\n",
       "    <tr>\n",
       "      <th>0</th>\n",
       "      <td>earthquake</td>\n",
       "      <td>8323</td>\n",
       "      <td>8323</td>\n",
       "      <td>8323</td>\n",
       "      <td>8323</td>\n",
       "      <td>8323</td>\n",
       "      <td>8323</td>\n",
       "      <td>5139</td>\n",
       "      <td>5785</td>\n",
       "      <td>5776</td>\n",
       "      <td>8317</td>\n",
       "      <td>8323</td>\n",
       "      <td>8323</td>\n",
       "      <td>8323</td>\n",
       "      <td>8323</td>\n",
       "      <td>4118</td>\n",
       "      <td>8317</td>\n",
       "      <td>5636</td>\n",
       "      <td>5747</td>\n",
       "      <td>8323</td>\n",
       "      <td>8323</td>\n",
       "      <td>8323</td>\n",
       "      <td>8323</td>\n",
       "    </tr>\n",
       "  </tbody>\n",
       "</table>\n",
       "</div>"
      ],
      "text/plain": [
       "         type  time  latitude  longitude  depth   mag  magType   nst   gap  \\\n",
       "0  earthquake  8323      8323       8323   8323  8323     8323  5139  5785   \n",
       "\n",
       "   dmin   rms   net    id  updated  place  horizontalError  depthError  \\\n",
       "0  5776  8317  8323  8323     8323   8323             4118        8317   \n",
       "\n",
       "   magError  magNst  status  locationSource  magSource  Year_month  \n",
       "0      5636    5747    8323            8323       8323        8323  "
      ]
     },
     "execution_count": 176,
     "metadata": {},
     "output_type": "execute_result"
    }
   ],
   "source": [
    "data1[:1]"
   ]
  },
  {
   "cell_type": "code",
   "execution_count": 177,
   "metadata": {
    "collapsed": false
   },
   "outputs": [],
   "source": [
    "data1=data1[['type','time']]"
   ]
  },
  {
   "cell_type": "code",
   "execution_count": 178,
   "metadata": {
    "collapsed": false
   },
   "outputs": [
    {
     "data": {
      "text/plain": [
       "Index(['type', 'time'], dtype='object')"
      ]
     },
     "execution_count": 178,
     "metadata": {},
     "output_type": "execute_result"
    }
   ],
   "source": [
    "data1.columns"
   ]
  },
  {
   "cell_type": "markdown",
   "metadata": {},
   "source": [
    "### rename the colum"
   ]
  },
  {
   "cell_type": "code",
   "execution_count": 179,
   "metadata": {
    "collapsed": true
   },
   "outputs": [],
   "source": [
    "data1.columns.values[1]='count'"
   ]
  },
  {
   "cell_type": "code",
   "execution_count": 180,
   "metadata": {
    "collapsed": false
   },
   "outputs": [
    {
     "data": {
      "text/html": [
       "<div>\n",
       "<table border=\"1\" class=\"dataframe\">\n",
       "  <thead>\n",
       "    <tr style=\"text-align: right;\">\n",
       "      <th></th>\n",
       "      <th>type</th>\n",
       "      <th>count</th>\n",
       "    </tr>\n",
       "  </thead>\n",
       "  <tbody>\n",
       "    <tr>\n",
       "      <th>0</th>\n",
       "      <td>earthquake</td>\n",
       "      <td>8323</td>\n",
       "    </tr>\n",
       "    <tr>\n",
       "      <th>1</th>\n",
       "      <td>explosion</td>\n",
       "      <td>58</td>\n",
       "    </tr>\n",
       "    <tr>\n",
       "      <th>2</th>\n",
       "      <td>ice quake</td>\n",
       "      <td>40</td>\n",
       "    </tr>\n",
       "    <tr>\n",
       "      <th>3</th>\n",
       "      <td>other event</td>\n",
       "      <td>4</td>\n",
       "    </tr>\n",
       "    <tr>\n",
       "      <th>4</th>\n",
       "      <td>quarry blast</td>\n",
       "      <td>51</td>\n",
       "    </tr>\n",
       "  </tbody>\n",
       "</table>\n",
       "</div>"
      ],
      "text/plain": [
       "           type  count\n",
       "0    earthquake   8323\n",
       "1     explosion     58\n",
       "2     ice quake     40\n",
       "3   other event      4\n",
       "4  quarry blast     51"
      ]
     },
     "execution_count": 180,
     "metadata": {},
     "output_type": "execute_result"
    }
   ],
   "source": [
    "data1"
   ]
  },
  {
   "cell_type": "code",
   "execution_count": 181,
   "metadata": {
    "collapsed": true
   },
   "outputs": [],
   "source": [
    "%matplotlib inline "
   ]
  },
  {
   "cell_type": "code",
   "execution_count": 182,
   "metadata": {
    "collapsed": false
   },
   "outputs": [
    {
     "data": {
      "text/plain": [
       "array([<matplotlib.axes._subplots.AxesSubplot object at 0x09109B90>], dtype=object)"
      ]
     },
     "execution_count": 182,
     "metadata": {},
     "output_type": "execute_result"
    },
    {
     "data": {
      "image/png": "[encoded data removed]",
      "text/plain": [
       "<matplotlib.figure.Figure at 0x9109bd0>"
      ]
     },
     "metadata": {},
     "output_type": "display_data"
    }
   ],
   "source": [
    "data1.plot(kind='bar',subplots=True,)"
   ]
  },
  {
   "cell_type": "markdown",
   "metadata": {},
   "source": [
    "# Plotting using Plotly API"
   ]
  },
  {
   "cell_type": "code",
   "execution_count": 30,
   "metadata": {
    "collapsed": true
   },
   "outputs": [],
   "source": [
    "import plotly.plotly as py\n",
    "import plotly.graph_objs as go\n",
    "#Setting plotly credentials\n",
    "#mantejsingh account\n",
    "py.sign_in('mantejsingh','hQnYIQxkVFVW')\n"
    
   ]
  },
  {
   "cell_type": "code",
   "execution_count": 31,
   "metadata": {
    "collapsed": false
   },
   "outputs": [
    {
     "data": {
      "text/html": [
       "<iframe id=\"igraph\" scrolling=\"no\" style=\"border:none;\" seamless=\"seamless\" src=\"https://plot.ly/~mantejsingh/84.embed\" height=\"525px\" width=\"100%\"></iframe>"
      ],
      "text/plain": [
       "<plotly.tools.PlotlyDisplay object>"
      ]
     },
     "execution_count": 31,
     "metadata": {},
     "output_type": "execute_result"
    }
   ],
   "source": [
    "data = [go.Scatter(\n",
    "        x=data1['type'],\n",
    "        y=data1['count'],\n",
    "        #mode = 'markers',\n",
    "        name = 'lines+markers'\n",
    "        #line = dict(\n",
    "        #color = ('Black'),\n",
    "        #width = 6\n",
    "        #dash = 'spline'\n",
    "        \n",
    "           \n",
    "    )\n",
    "       \n",
    "       ]\n",
    "layout = go.Layout(\n",
    "title='<b>Number Of Calamities</b>',\n",
    "xaxis=dict(title='Type',color = ('Black')),\n",
    "yaxis=dict(title='Counts',color = ('Black'))\n",
    "#fillcolor='rgba(0,100,80,0.2)'\n",
    ")\n",
    "fig = go.Figure(data=data, layout=layout)\n",
    "py.iplot(fig,filename='Earthquakes')"
   ]
  },
  {
   "cell_type": "code",
   "execution_count": 49,
   "metadata": {
    "collapsed": false
   },
   "outputs": [],
   "source": [
    "#mags = [2 ** (df['mag']) ]\n",
    "#mags"
   ]
  },
  {
   "cell_type": "code",
   "execution_count": 113,
   "metadata": {
    "collapsed": true
   },
   "outputs": [],
   "source": [
    "'''scl = [ [0,\"rgb(5, 10, 172)\"],[0.35,\"rgb(40, 60, 190)\"],[0.5,\"rgb(70, 100, 245)\"],\\\n",
    "    [0.6,\"rgb(90, 120, 245)\"],[0.7,\"rgb(106, 137, 247)\"],[1,\"rgb(220, 220, 220)\"] ]'''\n",
    "colors = [\"rgb(0,116,217)\",\"rgb(255,65,54)\",\"rgb(133,20,75)\",\"rgb(255,133,27)\",\"lightgrey\"]"
   ]
  },
  {
   "cell_type": "code",
   "execution_count": 184,
   "metadata": {
    "collapsed": false
   },
   "outputs": [],
   "source": [
    "df['text'] = 'Type: '+df['type']  + '<br>' +\\\n",
    " 'Place: '+df['place']"
   ]
  },
  {
   "cell_type": "code",
   "execution_count": 185,
   "metadata": {
    "collapsed": false
   },
   "outputs": [
    {
     "data": {
      "text/plain": [
       "5"
      ]
     },
     "execution_count": 185,
     "metadata": {},
     "output_type": "execute_result"
    }
   ],
   "source": [
    "types = data1['type'].tolist()\n",
    "len(types)"
   ]
  },
  {
   "cell_type": "markdown",
   "metadata": {},
   "source": [
    "### TEST 1"
   ]
  },
  {
   "cell_type": "code",
   "execution_count": 186,
   "metadata": {
    "collapsed": false
   },
   "outputs": [
    {
     "data": {
      "text/plain": [
       "'data = [ dict(\\n        type = \\'scattergeo\\',\\n        lon = df[\\'longitude\\'],\\n        lat = df[\\'latitude\\'],\\n        text = df[\\'text\\'],\\n        colorscale = scl,\\n        autocolorscale = False,\\n        #mode = \\'markers\\',\\n        name = \\'Earthquacks\\',\\n        marker = dict(\\n            line = dict (\\n                color = \\'rgb(255,255,255)\\',\\n                width = 2\\n            ) ),\\n        colorbar = dict(\\n            title = \"Millions USD\")\\n              \\n        )]\\n\\nlayout = dict(\\n        title = \\'Most Earthquacks <br>(Hover for  names)\\',\\n        colorbar = True,\\n        showlegend = True,\\n        geo = dict(\\n        showframe = False,\\n        showcoastlines = True,\\n        showcountries = True,\\n        showland = True,\\n        \\n        ),\\n    )\\n\\nfig = dict( data=data, layout=layout )\\nurl = py.plot( fig, validate=False, filename=\\'Eqack 2\\', fileopt=\\'overwrite\\' )'"
      ]
     },
     "execution_count": 186,
     "metadata": {},
     "output_type": "execute_result"
    }
   ],
   "source": [
    "'''data = [ dict(\n",
    "        type = 'scattergeo',\n",
    "        lon = df['longitude'],\n",
    "        lat = df['latitude'],\n",
    "        text = df['text'],\n",
    "        colorscale = scl,\n",
    "        autocolorscale = False,\n",
    "        #mode = 'markers',\n",
    "        name = 'Earthquacks',\n",
    "        marker = dict(\n",
    "            line = dict (\n",
    "                color = 'rgb(255,255,255)',\n",
    "                width = 2\n",
    "            ) ),\n",
    "        colorbar = dict(\n",
    "            title = \"Millions USD\")\n",
    "              \n",
    "        )]\n",
    "\n",
    "layout = dict(\n",
    "        title = 'Most Earthquacks <br>(Hover for  names)',\n",
    "        colorbar = True,\n",
    "        showlegend = True,\n",
    "        geo = dict(\n",
    "        showframe = False,\n",
    "        showcoastlines = True,\n",
    "        showcountries = True,\n",
    "        showland = True,\n",
    "        \n",
    "        ),\n",
    "    )\n",
    "\n",
    "fig = dict( data=data, layout=layout )\n",
    "url = py.plot( fig, validate=False, filename='Eqack 2', fileopt='overwrite' )'''"
   ]
  },
  {
   "cell_type": "code",
   "execution_count": 41,
   "metadata": {
    "collapsed": true
   },
   "outputs": [],
   "source": [
    "%matplotlib inline"
   ]
  },
  {
   "cell_type": "code",
   "execution_count": 6,
   "metadata": {
    "collapsed": false
   },
   "outputs": [],
   "source": [
    "import mpl_toolkits"
   ]
  },
  {
   "cell_type": "markdown",
   "metadata": {},
   "source": [
    "#### i was trying with mpl Basemap but could not import the package, then i tried with plotly"
   ]
  },
  {
   "cell_type": "code",
   "execution_count": 3,
   "metadata": {
    "collapsed": false
   },
   "outputs": [
    {
     "data": {
      "text/plain": [
       "['c:\\\\python35\\\\lib\\\\site-packages\\\\mpl_toolkits']"
      ]
     },
     "execution_count": 3,
     "metadata": {},
     "output_type": "execute_result"
    }
   ],
   "source": [
    "import importlib\n",
    "importlib.import_module('mpl_toolkits').__path__"
   ]
  },
  {
   "cell_type": "code",
   "execution_count": 8,
   "metadata": {
    "collapsed": false
   },
   "outputs": [],
   "source": [
    "#from mpl_toolkits.basemap import Basemap"
   ]
  },
  {
   "cell_type": "markdown",
   "metadata": {},
   "source": [
    "### TEST 2:"
   ]
  },
  {
   "cell_type": "markdown",
   "metadata": {},
   "source": [
    "## finding the latitudes  and longitudes by type"
   ]
  },
  {
   "cell_type": "code",
   "execution_count": 187,
   "metadata": {
    "collapsed": false,
    "scrolled": true
   },
   "outputs": [
    {
     "name": "stdout",
     "output_type": "stream",
     "text": [
      "8323\n",
      "58\n",
      "40\n",
      "4\n",
      "51\n"
     ]
    }
   ],
   "source": [
    "for i in range(len(types)):\n",
    "    #lim = types[i]\n",
    "    df_sub = df.loc[df.type==types[i],:]\n",
    "    print(len(df_sub))"
   ]
  },
  {
   "cell_type": "code",
   "execution_count": 188,
   "metadata": {
    "collapsed": false
   },
   "outputs": [],
   "source": [
    "cases = []\n",
    "for i in range(len(types)):\n",
    "    lim = types[i]\n",
    "    df_sub = df.loc[df.type==types[i],:]\n",
    "    cases.append(go.Scattergeo(\n",
    "        lon = df_sub['longitude'],\n",
    "        lat = df_sub['latitude'],\n",
    "        text = df_sub['text'],\n",
    "        #colorscale = scl,\n",
    "        #autocolorscale = False,\n",
    "        name = types[i] + ' : '+str(len((df_sub))),\n",
    "        marker = dict(\n",
    "            line = dict (color = colors[i],width = 0.5),\n",
    "            #sizemode = 'area',\n",
    "            size = types[i]\n",
    "            #size = len(df_sub)/8324\n",
    "            ),\n",
    "              \n",
    "        \n",
    "    ) )\n",
    "    \n",
    "layout = dict(\n",
    "        title = '<b>Most Calamities</b>  <br>(Hover for details)',\n",
    "        colorbar = True,\n",
    "        showlegend = True,\n",
    "        geo = dict(\n",
    "        showframe = False,\n",
    "        showcoastlines = True,\n",
    "        showcountries = True,\n",
    "        showland = True,\n",
    "        landcolor = 'rgb(217, 217, 217)',\n",
    "        subunitwidth=1,\n",
    "        countrywidth=1,\n",
    "        subunitcolor=\"rgb(255, 255, 255)\",\n",
    "        countrycolor=\"rgb(255, 255, 255)\"\n",
    "        \n",
    "        ),\n",
    "    )\n",
    "\n",
    "fig = dict( data=cases, layout=layout )\n",
    "url = py.plot( fig, validate=False, filename='Eqack 1', fileopt='overwrite' )"
   ]
  },
  {
   "cell_type": "code",
   "execution_count": 147,
   "metadata": {
    "collapsed": false
   },
   "outputs": [],
   "source": [
    "#ex=df.loc[df.type==types[1],:]"
   ]
  },
  {
   "cell_type": "code",
   "execution_count": 148,
   "metadata": {
    "collapsed": false
   },
   "outputs": [],
   "source": [
    "#len(ex)"
   ]
  },
  {
   "cell_type": "markdown",
   "metadata": {},
   "source": [
    "# It took me 8 hrs of hardwork to make this!!!"
   ]
  },
  {
   "cell_type": "code",
   "execution_count": null,
   "metadata": {
    "collapsed": true
   },
   "outputs": [],
   "source": []
  }
 ],
 "metadata": {
  "kernelspec": {
   "display_name": "Python 3",
   "language": "python",
   "name": "python3"
  },
  "language_info": {
   "codemirror_mode": {
    "name": "ipython",
    "version": 3
   },
   "file_extension": ".py",
   "mimetype": "text/x-python",
   "name": "python",
   "nbconvert_exporter": "python",
   "pygments_lexer": "ipython3",
   "version": "3.5.2"
  }
 },
 "nbformat": 4,
 "nbformat_minor": 1
}
